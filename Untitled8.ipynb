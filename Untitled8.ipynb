{
  "nbformat": 4,
  "nbformat_minor": 0,
  "metadata": {
    "colab": {
      "name": "Untitled8.ipynb",
      "provenance": [],
      "authorship_tag": "ABX9TyO+vM68oTol6RJL7fX+lMHr",
      "include_colab_link": true
    },
    "kernelspec": {
      "name": "python3",
      "display_name": "Python 3"
    },
    "language_info": {
      "name": "python"
    }
  },
  "cells": [
    {
      "cell_type": "markdown",
      "metadata": {
        "id": "view-in-github",
        "colab_type": "text"
      },
      "source": [
        "<a href=\"https://colab.research.google.com/github/madhu080/oop-assignment/blob/main/Untitled8.ipynb\" target=\"_parent\"><img src=\"https://colab.research.google.com/assets/colab-badge.svg\" alt=\"Open In Colab\"/></a>"
      ]
    },
    {
      "cell_type": "code",
      "metadata": {
        "colab": {
          "base_uri": "https://localhost:8080/"
        },
        "id": "fyfn6AXLCKo2",
        "outputId": "ccc488d6-7e33-4c00-988e-2d86fcfe434e"
      },
      "source": [
        "\n",
        "class car:\n",
        "  def __init__(self,carnumber):\n",
        "    self.carnumber=carnumber\n",
        "c1=car(1998)\n",
        "c2=car(2002)\n",
        "print('the model number of c1 is',c1.carnumber)\n",
        "print('the model number of c2 is',c2.carnumber)\n",
        "print('--------------------------------')\n",
        "def carnumswap():\n",
        "  c1.carnumber,c2.carnumber=c2.carnumber,c1.carnumber\n",
        "  print(\"the model number of c1 is \",c1.carnumber)\n",
        "  print(\"the model number of c2 is \",c2.carnumber)\n",
        "carnumswap()"
      ],
      "execution_count": 2,
      "outputs": [
        {
          "output_type": "stream",
          "name": "stdout",
          "text": [
            "the model number of c1 is 1998\n",
            "the model number of c2 is 2002\n",
            "--------------------------------\n",
            "the model number of c1 is  2002\n",
            "the model number of c2 is  1998\n"
          ]
        }
      ]
    }
  ]
}