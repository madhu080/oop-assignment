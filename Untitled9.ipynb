{
  "nbformat": 4,
  "nbformat_minor": 0,
  "metadata": {
    "colab": {
      "name": "Untitled9.ipynb",
      "provenance": [],
      "authorship_tag": "ABX9TyMIr2qo7FbKPOvtXNHbKJPz",
      "include_colab_link": true
    },
    "kernelspec": {
      "name": "python3",
      "display_name": "Python 3"
    },
    "language_info": {
      "name": "python"
    }
  },
  "cells": [
    {
      "cell_type": "markdown",
      "metadata": {
        "id": "view-in-github",
        "colab_type": "text"
      },
      "source": [
        "<a href=\"https://colab.research.google.com/github/madhu080/oop-assignment/blob/main/Untitled9.ipynb\" target=\"_parent\"><img src=\"https://colab.research.google.com/assets/colab-badge.svg\" alt=\"Open In Colab\"/></a>"
      ]
    },
    {
      "cell_type": "code",
      "metadata": {
        "colab": {
          "base_uri": "https://localhost:8080/"
        },
        "id": "z0Z9PEyZDECr",
        "outputId": "31d656f3-4bee-4e26-8b5d-a1e3307f4126"
      },
      "source": [
        "from abc import ABC, abstractmethod\n",
        "import math\n",
        "class Shape(ABC):\n",
        "    def __init__(self, shape):\n",
        "        self.shape = shape\n",
        "\n",
        "    @abstractmethod\n",
        "    def area(self):\n",
        "        pass\n",
        "\n",
        "class Rectangle(Shape):\n",
        "    def __init__(self, length, breadth):\n",
        "        Shape.__init__(self, 'Rectangle')\n",
        "        self.length = length\n",
        "        self.breadth = breadth\n",
        "\n",
        "    def area(self):\n",
        "        return self.length*self.breadth\n",
        "\n",
        "class Circle(Shape):\n",
        "    def __init__(self, radius):\n",
        "        Shape.__init__(self, 'Circle')\n",
        "        self.radius = radius\n",
        "\n",
        "    def area(self):\n",
        "        return round((math.pi)*(self.radius**2),2)\n",
        "\n",
        "class Square(Shape):\n",
        "    def __init__(self, side):\n",
        "        Shape.__init__(self, 'Square')\n",
        "        self.side = side\n",
        "\n",
        "    def area(self):\n",
        "        return self.side*self.side\n",
        "\n",
        "sq = Square(9)\n",
        "print(\"Area of square   :\", sq.area())\n",
        "rect = Rectangle(6,7)\n",
        "print(\"Area of rectangle:\", rect.area())\n",
        "c = Circle(8)\n",
        "print(\"Area of circle   :\", c.area())"
      ],
      "execution_count": 3,
      "outputs": [
        {
          "output_type": "stream",
          "name": "stdout",
          "text": [
            "Area of square   : 81\n",
            "Area of rectangle: 42\n",
            "Area of circle   : 201.06\n"
          ]
        }
      ]
    }
  ]
}